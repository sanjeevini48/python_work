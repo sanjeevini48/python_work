{
 "cells": [
  {
   "cell_type": "code",
   "execution_count": 5,
   "metadata": {},
   "outputs": [
    {
     "name": "stdout",
     "output_type": "stream",
     "text": [
      "enter the number of element to be inserted3\n",
      "enter the number: 2\n",
      "enter the number: 2\n",
      "enter the number: 2\n",
      "average number 2.0\n"
     ]
    }
   ],
   "source": [
    "n=int(input(\"enter the number of element to be inserted\"))\n",
    "a=[]\n",
    "for i in range(0,n):\n",
    "    num=int(input(\"enter the number: \"))\n",
    "    a.append(num)\n",
    "avg=sum(a)/n\n",
    "print(\"average number\",round(avg,2))"
   ]
  },
  {
   "cell_type": "code",
   "execution_count": 2,
   "metadata": {},
   "outputs": [
    {
     "name": "stdout",
     "output_type": "stream",
     "text": [
      "enter the number:67\n",
      "reverse number 76\n"
     ]
    }
   ],
   "source": [
    "n=int(input(\"enter the number:\"))\n",
    "rev=0\n",
    "while(n>0):\n",
    "    digit=n%10\n",
    "    rev=rev*10+digit\n",
    "    n=n//10\n",
    "print(\"reverse number\",rev)"
   ]
  },
  {
   "cell_type": "code",
   "execution_count": 5,
   "metadata": {},
   "outputs": [
    {
     "name": "stdout",
     "output_type": "stream",
     "text": [
      "enter the number-6\n",
      "n is negative\n"
     ]
    }
   ],
   "source": [
    "n=int(input(\"enter the number\"))\n",
    "if(n>0):\n",
    "   print(\"n is positive\")\n",
    "else:\n",
    "    print(\"n is negative\")"
   ]
  },
  {
   "cell_type": "code",
   "execution_count": 22,
   "metadata": {},
   "outputs": [
    {
     "name": "stdout",
     "output_type": "stream",
     "text": [
      "enter the marks of the first subject81\n",
      "enter  the marks of second subject72\n",
      "enter the  marks third subject94\n",
      "enter the marks fourth subject85\n",
      "enter the  marks fifth subject80\n"
     ]
    },
    {
     "ename": "TypeError",
     "evalue": "unsupported operand type(s) for &: 'int' and 'float'",
     "output_type": "error",
     "traceback": [
      "\u001b[1;31m---------------------------------------------------------------------------\u001b[0m",
      "\u001b[1;31mTypeError\u001b[0m                                 Traceback (most recent call last)",
      "\u001b[1;32m<ipython-input-22-eaee582869e0>\u001b[0m in \u001b[0;36m<module>\u001b[1;34m\u001b[0m\n\u001b[0;32m      7\u001b[0m \u001b[1;32mif\u001b[0m\u001b[1;33m(\u001b[0m\u001b[0mavg\u001b[0m\u001b[1;33m>=\u001b[0m\u001b[1;36m90\u001b[0m\u001b[1;33m)\u001b[0m\u001b[1;33m:\u001b[0m\u001b[1;33m\u001b[0m\u001b[1;33m\u001b[0m\u001b[0m\n\u001b[0;32m      8\u001b[0m     \u001b[0mprint\u001b[0m\u001b[1;33m(\u001b[0m\u001b[1;34m\"Grade: A\"\u001b[0m\u001b[1;33m)\u001b[0m\u001b[1;33m\u001b[0m\u001b[1;33m\u001b[0m\u001b[0m\n\u001b[1;32m----> 9\u001b[1;33m \u001b[1;32melif\u001b[0m\u001b[1;33m(\u001b[0m\u001b[0mavg\u001b[0m\u001b[1;33m>=\u001b[0m\u001b[1;36m80\u001b[0m\u001b[1;33m&\u001b[0m\u001b[0mavg\u001b[0m\u001b[1;33m<\u001b[0m\u001b[1;36m90\u001b[0m\u001b[1;33m)\u001b[0m\u001b[1;33m:\u001b[0m\u001b[1;33m\u001b[0m\u001b[1;33m\u001b[0m\u001b[0m\n\u001b[0m\u001b[0;32m     10\u001b[0m     \u001b[0mprint\u001b[0m\u001b[1;33m(\u001b[0m\u001b[1;34m\"Grade: B\"\u001b[0m\u001b[1;33m)\u001b[0m\u001b[1;33m\u001b[0m\u001b[1;33m\u001b[0m\u001b[0m\n\u001b[0;32m     11\u001b[0m \u001b[1;32melif\u001b[0m\u001b[1;33m(\u001b[0m\u001b[0mavg\u001b[0m\u001b[1;33m>=\u001b[0m\u001b[1;36m70\u001b[0m\u001b[1;33m&\u001b[0m\u001b[0mavg\u001b[0m\u001b[1;33m<\u001b[0m\u001b[1;36m80\u001b[0m\u001b[1;33m)\u001b[0m\u001b[1;33m:\u001b[0m\u001b[1;33m\u001b[0m\u001b[1;33m\u001b[0m\u001b[0m\n",
      "\u001b[1;31mTypeError\u001b[0m: unsupported operand type(s) for &: 'int' and 'float'"
     ]
    }
   ],
   "source": [
    "s1=int(input(\"enter the marks of the first subject\"))\n",
    "s2=int(input(\"enter  the marks of second subject\"))\n",
    "s3=int(input(\"enter the  marks third subject\"))\n",
    "s4=int(input(\"enter the marks fourth subject\"))\n",
    "s5=int(input(\"enter the  marks fifth subject\"))\n",
    "avg=(s1+s2+s3+s4+s5)/5\n",
    "if(avg>=90):\n",
    "    print(\"Grade: A\")\n",
    "elif(avg>=80&avg<90):\n",
    "    print(\"Grade: B\")\n",
    "elif(avg>=70&avg<80):\n",
    "    print(\"Grade: C\")\n",
    "elif(avg>=60&avg<70):\n",
    "    print(\"Grade: D\")\n",
    "else:\n",
    "    print(\"Grade: F\")\n",
    "    "
   ]
  },
  {
   "cell_type": "code",
   "execution_count": 31,
   "metadata": {},
   "outputs": [
    {
     "name": "stdout",
     "output_type": "stream",
     "text": [
      "enter the lower range1\n",
      "enter the upper range30\n",
      "enter the number is devided by3\n",
      "3\n",
      "6\n",
      "9\n",
      "12\n",
      "15\n",
      "18\n",
      "21\n",
      "24\n",
      "27\n",
      "30\n"
     ]
    }
   ],
   "source": [
    "lower=int(input(\"enter the lower range\"))\n",
    "upper=int(input(\"enter the upper range\"))\n",
    "n=int(input(\"enter the number is devided by\"))\n",
    "for i in range(lower,upper+1):\n",
    "    if(i%n==0):\n",
    "        print(i)"
   ]
  },
  {
   "cell_type": "code",
   "execution_count": 38,
   "metadata": {},
   "outputs": [
    {
     "name": "stdout",
     "output_type": "stream",
     "text": [
      "enter the number1\n",
      "enter the number10\n",
      "1\n",
      "3\n",
      "5\n",
      "7\n",
      "9\n"
     ]
    }
   ],
   "source": [
    "lower=int(input(\"enter the number\"))\n",
    "upper=int(input(\"enter the number\"))\n",
    "for i in range(lower,upper+1):\n",
    "        if(i%2!=0):\n",
    "            print(i)"
   ]
  },
  {
   "cell_type": "code",
   "execution_count": 44,
   "metadata": {},
   "outputs": [
    {
     "name": "stdout",
     "output_type": "stream",
     "text": [
      "enter the number65\n",
      "the total sum of digit is 5\n",
      "the total sum of digit is 11\n"
     ]
    }
   ],
   "source": [
    "n=int(input(\"enter the number\"))\n",
    "num=0\n",
    "while(n>0):\n",
    "    dig=n%10\n",
    "    num=num+dig\n",
    "    n=n//10\n",
    "    print(\"the total sum of digit is\",num)"
   ]
  },
  {
   "cell_type": "code",
   "execution_count": 49,
   "metadata": {},
   "outputs": [
    {
     "name": "stdout",
     "output_type": "stream",
     "text": [
      "enter the number12345\n",
      "enter the number of digits in the number 1\n",
      "enter the number of digits in the number 2\n",
      "enter the number of digits in the number 3\n",
      "enter the number of digits in the number 4\n",
      "enter the number of digits in the number 5\n"
     ]
    }
   ],
   "source": [
    "n=int(input(\"enter the number\"))\n",
    "count=0\n",
    "while(n>0):\n",
    "    count=count+1\n",
    "    n=n//10\n",
    "    print(\"enter the number of digits in the number\",count)\n",
    "    \n",
    "    "
   ]
  },
  {
   "cell_type": "code",
   "execution_count": 54,
   "metadata": {},
   "outputs": [
    {
     "name": "stdout",
     "output_type": "stream",
     "text": [
      "enter the number5\n",
      "number is palindrome 5\n"
     ]
    }
   ],
   "source": [
    "n=int(input(\"enter the number\"))\n",
    "temp=n\n",
    "rev=0\n",
    "while(n>0):\n",
    "    dig=n%10\n",
    "    rev=rev*n+dig\n",
    "    n=n//10\n",
    "if(temp==rev):\n",
    "    print(\"number is palindrome\",rev)\n",
    "else:\n",
    "    print(\"number is not palindrome\",rev)"
   ]
  },
  {
   "cell_type": "code",
   "execution_count": 16,
   "metadata": {},
   "outputs": [
    {
     "name": "stdout",
     "output_type": "stream",
     "text": [
      "3\n",
      "6\n",
      "9\n",
      "12\n",
      "15\n",
      "18\n",
      "21\n",
      "24\n",
      "27\n",
      "30\n",
      "33\n",
      "36\n",
      "39\n",
      "42\n",
      "45\n",
      "48\n",
      "51\n",
      "54\n",
      "57\n",
      "60\n",
      "63\n",
      "66\n",
      "69\n",
      "72\n",
      "75\n",
      "78\n",
      "81\n",
      "84\n",
      "87\n",
      "90\n",
      "93\n",
      "96\n",
      "99\n"
     ]
    }
   ],
   "source": [
    "for i in range(1,100):\n",
    "    if(i%3==0&i%7==0):\n",
    "        print(i)\n",
    "  "
   ]
  },
  {
   "cell_type": "code",
   "execution_count": 31,
   "metadata": {},
   "outputs": [
    {
     "name": "stdout",
     "output_type": "stream",
     "text": [
      "enter year to be checked2016\n",
      "the year is leap year\n"
     ]
    }
   ],
   "source": [
    "year=int(input(\"enter year to be checked\"))\n",
    "if(year%4==0 and year%100!=0 or year%400==0):\n",
    "     print(\"the year is leap year\")\n",
    "else:\n",
    "    print(\"the year is not leap year\")\n",
    "     "
   ]
  },
  {
   "cell_type": "code",
   "execution_count": null,
   "metadata": {},
   "outputs": [],
   "source": []
  },
  {
   "cell_type": "code",
   "execution_count": null,
   "metadata": {},
   "outputs": [],
   "source": []
  }
 ],
 "metadata": {
  "kernelspec": {
   "display_name": "Python 3",
   "language": "python",
   "name": "python3"
  },
  "language_info": {
   "codemirror_mode": {
    "name": "ipython",
    "version": 3
   },
   "file_extension": ".py",
   "mimetype": "text/x-python",
   "name": "python",
   "nbconvert_exporter": "python",
   "pygments_lexer": "ipython3",
   "version": "3.7.4"
  }
 },
 "nbformat": 4,
 "nbformat_minor": 2
}
