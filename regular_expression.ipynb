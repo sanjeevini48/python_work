{
 "cells": [
  {
   "cell_type": "code",
   "execution_count": 10,
   "metadata": {},
   "outputs": [],
   "source": [
    "import re"
   ]
  },
  {
   "cell_type": "code",
   "execution_count": 11,
   "metadata": {},
   "outputs": [
    {
     "name": "stdout",
     "output_type": "stream",
     "text": [
      "searching for \"term1\" in:\n",
      " \"this is string with term1,other does not have term\"\n",
      "\n",
      "match was found:\n",
      "\n",
      "searching for \"term2\" in:\n",
      " \"this is string with term1,other does not have term\"\n",
      "\n",
      "match was not found\n"
     ]
    }
   ],
   "source": [
    "patterns=['term1','term2']\n",
    "text='this is string with term1,other does not have term'\n",
    "for pattern in patterns:\n",
    "    print('searching for \"%s\" in:\\n \"%s\"\\n'%(pattern,text))\n",
    "    if re.search(pattern,text):\n",
    "        print('match was found:\\n')\n",
    "    else:\n",
    "        print('match was not found')"
   ]
  },
  {
   "cell_type": "code",
   "execution_count": 12,
   "metadata": {},
   "outputs": [
    {
     "data": {
      "text/plain": [
       "re.Match"
      ]
     },
     "execution_count": 12,
     "metadata": {},
     "output_type": "execute_result"
    }
   ],
   "source": [
    "pattern='term1'\n",
    "text='the string with term1,other does not have term.'\n",
    "match=re.search(pattern,text)\n",
    "type(match)"
   ]
  },
  {
   "cell_type": "code",
   "execution_count": 13,
   "metadata": {},
   "outputs": [
    {
     "data": {
      "text/plain": [
       "16"
      ]
     },
     "execution_count": 13,
     "metadata": {},
     "output_type": "execute_result"
    }
   ],
   "source": [
    "match.start()"
   ]
  },
  {
   "cell_type": "code",
   "execution_count": 14,
   "metadata": {},
   "outputs": [
    {
     "data": {
      "text/plain": [
       "21"
      ]
     },
     "execution_count": 14,
     "metadata": {},
     "output_type": "execute_result"
    }
   ],
   "source": [
    "match.end()"
   ]
  },
  {
   "cell_type": "code",
   "execution_count": 15,
   "metadata": {},
   "outputs": [
    {
     "data": {
      "text/plain": [
       "['what is the domain some one with the mail:rag', 'gamil.com.']"
      ]
     },
     "execution_count": 15,
     "metadata": {},
     "output_type": "execute_result"
    }
   ],
   "source": [
    "split_term='@'\n",
    "phrase='what is the domain some one with the mail:rag@gamil.com.'\n",
    "re.split(split_term,phrase)"
   ]
  },
  {
   "cell_type": "code",
   "execution_count": 16,
   "metadata": {},
   "outputs": [
    {
     "data": {
      "text/plain": [
       "['match']"
      ]
     },
     "execution_count": 16,
     "metadata": {},
     "output_type": "execute_result"
    }
   ],
   "source": [
    "re.findall('match','test match is fund')"
   ]
  },
  {
   "cell_type": "code",
   "execution_count": 17,
   "metadata": {},
   "outputs": [],
   "source": [
    "def multi_re_find(patterns,phrase):\n",
    "    for pattern in patterns:\n",
    "        print('seraching the pattern using re check:%r'%(pattern))\n",
    "        print(re.findall(pattern,phrase))\n",
    "        print('\\n')"
   ]
  },
  {
   "cell_type": "code",
   "execution_count": 18,
   "metadata": {},
   "outputs": [
    {
     "name": "stdout",
     "output_type": "stream",
     "text": [
      "seraching the pattern using re check:'sd*'\n",
      "['s', 's', 'sd', 'sd', 'sd', 'sddd', 's', 'sdd']\n",
      "\n",
      "\n"
     ]
    }
   ],
   "source": [
    "test_phrase='sssd..sdsd..sddd..ssdd'\n",
    "test_patterns=['sd*']\n",
    "multi_re_find(test_patterns,test_phrase)\n",
    "              "
   ]
  },
  {
   "cell_type": "code",
   "execution_count": 19,
   "metadata": {},
   "outputs": [
    {
     "name": "stdout",
     "output_type": "stream",
     "text": [
      "seraching the pattern using re check:'sd+'\n",
      "['sd', 'sd', 'sd', 'sddd', 'sdd']\n",
      "\n",
      "\n"
     ]
    }
   ],
   "source": [
    "test_patterns=['sd+']\n",
    "multi_re_find(test_patterns,test_phrase)"
   ]
  },
  {
   "cell_type": "code",
   "execution_count": 20,
   "metadata": {},
   "outputs": [
    {
     "name": "stdout",
     "output_type": "stream",
     "text": [
      "seraching the pattern using re check:'sd?'\n",
      "['s', 's', 'sd', 'sd', 'sd', 'sd', 's', 'sd']\n",
      "\n",
      "\n"
     ]
    }
   ],
   "source": [
    "test_patterns=['sd?']\n",
    "multi_re_find(test_patterns,test_phrase)"
   ]
  },
  {
   "cell_type": "code",
   "execution_count": 21,
   "metadata": {},
   "outputs": [
    {
     "name": "stdout",
     "output_type": "stream",
     "text": [
      "seraching the pattern using re check:'sd{3}'\n",
      "['sddd']\n",
      "\n",
      "\n"
     ]
    }
   ],
   "source": [
    "test_patterns=['sd{3}']\n",
    "multi_re_find(test_patterns,test_phrase)"
   ]
  },
  {
   "cell_type": "code",
   "execution_count": 22,
   "metadata": {},
   "outputs": [],
   "source": [
    "test_patterns=['sd{2,3}']"
   ]
  },
  {
   "cell_type": "code",
   "execution_count": 23,
   "metadata": {},
   "outputs": [
    {
     "name": "stdout",
     "output_type": "stream",
     "text": [
      "seraching the pattern using re check:'sd{2,3}'\n",
      "['sddd', 'sdd']\n",
      "\n",
      "\n"
     ]
    }
   ],
   "source": [
    "multi_re_find(test_patterns,test_phrase)"
   ]
  },
  {
   "cell_type": "code",
   "execution_count": 24,
   "metadata": {},
   "outputs": [],
   "source": [
    "test_phrase='this is string! string is a collection of object.how can remove it'"
   ]
  },
  {
   "cell_type": "code",
   "execution_count": 25,
   "metadata": {},
   "outputs": [
    {
     "data": {
      "text/plain": [
       "['this is string', ' string is a collection of object', 'how can remove it']"
      ]
     },
     "execution_count": 25,
     "metadata": {},
     "output_type": "execute_result"
    }
   ],
   "source": [
    "re.findall('[^!?.]+',test_phrase)"
   ]
  },
  {
   "cell_type": "code",
   "execution_count": 26,
   "metadata": {},
   "outputs": [
    {
     "name": "stdout",
     "output_type": "stream",
     "text": [
      "seraching the pattern using re check:'[sd]'\n",
      "['s', 's', 'd', 'd', 's', 'd', 's', 'd', 's', 's', 's', 'd', 's', 'd', 'd', 'd', 's', 's', 'd', 'd', 's', 's', 'd', 'd', 'd', 's', 's', 's', 'd', 's', 'd', 's']\n",
      "\n",
      "\n"
     ]
    }
   ],
   "source": [
    "test_phrase='ssdd..sdsd..sssd..sddd..ssddssdd..dsss..dsds'\n",
    "test_patterns=['[sd]']\n",
    "multi_re_find(test_patterns,test_phrase)"
   ]
  },
  {
   "cell_type": "code",
   "execution_count": 27,
   "metadata": {},
   "outputs": [
    {
     "name": "stdout",
     "output_type": "stream",
     "text": [
      "seraching the pattern using re check:'[A-Z]+'\n",
      "['T', 'W', 'L']\n",
      "\n",
      "\n"
     ]
    }
   ],
   "source": [
    "test_phrase='This is an example sentense We can find some Letters'\n",
    "test_patterns=['[A-Z]+']\n",
    "multi_re_find(test_patterns,test_phrase)"
   ]
  },
  {
   "cell_type": "code",
   "execution_count": 29,
   "metadata": {},
   "outputs": [
    {
     "name": "stdout",
     "output_type": "stream",
     "text": [
      "seraching the pattern using re check:'[a-z]+'\n",
      "['his', 'is', 'an', 'example', 'sentense', 'e', 'can', 'find', 'some', 'etters']\n",
      "\n",
      "\n"
     ]
    }
   ],
   "source": [
    "test_patterns=['[a-z]+']\n",
    "multi_re_find(test_patterns,test_phrase)"
   ]
  },
  {
   "cell_type": "code",
   "execution_count": 33,
   "metadata": {},
   "outputs": [
    {
     "name": "stdout",
     "output_type": "stream",
     "text": [
      "seraching the pattern using re check:'[a-zA-Z]+'\n",
      "['This', 'is', 'an', 'example', 'sentense', 'We', 'can', 'find', 'some', 'Letters']\n",
      "\n",
      "\n"
     ]
    }
   ],
   "source": [
    "test_patterns=['[a-zA-Z]+']\n",
    "multi_re_find(test_patterns,test_phrase)"
   ]
  },
  {
   "cell_type": "code",
   "execution_count": 34,
   "metadata": {},
   "outputs": [
    {
     "name": "stdout",
     "output_type": "stream",
     "text": [
      "seraching the pattern using re check:'[A-Z][a-z]+'\n",
      "['This', 'We', 'Letters']\n",
      "\n",
      "\n"
     ]
    }
   ],
   "source": [
    "test_patterns=['[A-Z][a-z]+']\n",
    "multi_re_find(test_patterns,test_phrase)"
   ]
  },
  {
   "cell_type": "code",
   "execution_count": 37,
   "metadata": {},
   "outputs": [
    {
     "name": "stdout",
     "output_type": "stream",
     "text": [
      "seraching the pattern using re check:'\\\\d+'\n",
      "['1233']\n",
      "\n",
      "\n"
     ]
    }
   ],
   "source": [
    "test_phrase='this is an string with some number 1233 and special symbol hashtag#'\n",
    "test_patterns=[r'\\d+']\n",
    "multi_re_find(test_patterns,test_phrase)"
   ]
  },
  {
   "cell_type": "code",
   "execution_count": 38,
   "metadata": {},
   "outputs": [
    {
     "name": "stdout",
     "output_type": "stream",
     "text": [
      "seraching the pattern using re check:'\\\\D+'\n",
      "['this is an string with some number ', ' and special symbol hashtag#']\n",
      "\n",
      "\n"
     ]
    }
   ],
   "source": [
    "test_patterns=[r'\\D+']\n",
    "multi_re_find(test_patterns,test_phrase)"
   ]
  },
  {
   "cell_type": "code",
   "execution_count": 39,
   "metadata": {},
   "outputs": [
    {
     "name": "stdout",
     "output_type": "stream",
     "text": [
      "seraching the pattern using re check:'\\\\s+'\n",
      "[' ', ' ', ' ', ' ', ' ', ' ', ' ', ' ', ' ', ' ', ' ']\n",
      "\n",
      "\n"
     ]
    }
   ],
   "source": [
    "test_patterns=[r'\\s+']\n",
    "multi_re_find(test_patterns,test_phrase)"
   ]
  },
  {
   "cell_type": "code",
   "execution_count": 40,
   "metadata": {},
   "outputs": [
    {
     "name": "stdout",
     "output_type": "stream",
     "text": [
      "seraching the pattern using re check:'\\\\S+'\n",
      "['this', 'is', 'an', 'string', 'with', 'some', 'number', '1233', 'and', 'special', 'symbol', 'hashtag#']\n",
      "\n",
      "\n"
     ]
    }
   ],
   "source": [
    "test_patterns=[r'\\S+']\n",
    "multi_re_find(test_patterns,test_phrase)"
   ]
  },
  {
   "cell_type": "code",
   "execution_count": 41,
   "metadata": {},
   "outputs": [
    {
     "name": "stdout",
     "output_type": "stream",
     "text": [
      "seraching the pattern using re check:'\\\\w+'\n",
      "['this', 'is', 'an', 'string', 'with', 'some', 'number', '1233', 'and', 'special', 'symbol', 'hashtag']\n",
      "\n",
      "\n"
     ]
    }
   ],
   "source": [
    "test_patterns=[r'\\w+']\n",
    "multi_re_find(test_patterns,test_phrase)"
   ]
  },
  {
   "cell_type": "code",
   "execution_count": 42,
   "metadata": {},
   "outputs": [
    {
     "name": "stdout",
     "output_type": "stream",
     "text": [
      "seraching the pattern using re check:'\\\\W+'\n",
      "[' ', ' ', ' ', ' ', ' ', ' ', ' ', ' ', ' ', ' ', ' ', '#']\n",
      "\n",
      "\n"
     ]
    }
   ],
   "source": [
    "test_patterns=[r'\\W+']\n",
    "multi_re_find(test_patterns,test_phrase)"
   ]
  },
  {
   "cell_type": "code",
   "execution_count": null,
   "metadata": {},
   "outputs": [],
   "source": []
  }
 ],
 "metadata": {
  "kernelspec": {
   "display_name": "Python 3",
   "language": "python",
   "name": "python3"
  },
  "language_info": {
   "codemirror_mode": {
    "name": "ipython",
    "version": 3
   },
   "file_extension": ".py",
   "mimetype": "text/x-python",
   "name": "python",
   "nbconvert_exporter": "python",
   "pygments_lexer": "ipython3",
   "version": "3.7.4"
  }
 },
 "nbformat": 4,
 "nbformat_minor": 2
}
