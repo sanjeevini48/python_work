{
 "cells": [
  {
   "cell_type": "code",
   "execution_count": 1,
   "metadata": {},
   "outputs": [
    {
     "name": "stdout",
     "output_type": "stream",
     "text": [
      "1 2 3 4 6 7\n",
      "['1 2 3 4 6 7']\n",
      "('1 2 3 4 6 7',)\n"
     ]
    }
   ],
   "source": [
    "n=input()\n",
    "l=n.split(',')\n",
    "t=tuple(l)\n",
    "print(l)\n",
    "print(t)\n"
   ]
  },
  {
   "cell_type": "code",
   "execution_count": 23,
   "metadata": {},
   "outputs": [
    {
     "name": "stdout",
     "output_type": "stream",
     "text": [
      "9\n"
     ]
    }
   ],
   "source": [
    "def square(num):\n",
    "    return num ** 2\n",
    "print(square(3))\n",
    "    "
   ]
  },
  {
   "cell_type": "code",
   "execution_count": 28,
   "metadata": {},
   "outputs": [
    {
     "name": "stdout",
     "output_type": "stream",
     "text": [
      "15\n"
     ]
    }
   ],
   "source": [
    "def sumfunction(num1,num2):\n",
    "      return num1+num2\n",
    "print(sumfunction(8,7))\n"
   ]
  },
  {
   "cell_type": "code",
   "execution_count": 34,
   "metadata": {},
   "outputs": [
    {
     "name": "stdout",
     "output_type": "stream",
     "text": [
      "8\n"
     ]
    }
   ],
   "source": [
    "def printvalue(n):\n",
    "    print(int(n))\n",
    "printvalue(8)"
   ]
  },
  {
   "cell_type": "code",
   "execution_count": 37,
   "metadata": {},
   "outputs": [
    {
     "name": "stdout",
     "output_type": "stream",
     "text": [
      "4\n"
     ]
    }
   ],
   "source": [
    "def printvalue(s1):\n",
    "    print(int(s1))\n",
    "printvalue('4')    "
   ]
  },
  {
   "cell_type": "code",
   "execution_count": 6,
   "metadata": {},
   "outputs": [
    {
     "name": "stdout",
     "output_type": "stream",
     "text": [
      "nine\n"
     ]
    }
   ],
   "source": [
    "def printvalue(l1,l2):\n",
    "    len1=len(l1)\n",
    "    len2=len(l2)\n",
    "    if len1>len2:\n",
    "        print(l1)\n",
    "    elif len2>len1:\n",
    "        print (l2)\n",
    "    else:\n",
    "        print(l1)\n",
    "        print(l2)\n",
    "printvalue(\"one\",\"nine\")"
   ]
  },
  {
   "cell_type": "code",
   "execution_count": 16,
   "metadata": {},
   "outputs": [
    {
     "name": "stdout",
     "output_type": "stream",
     "text": [
      "six\n"
     ]
    }
   ],
   "source": [
    "def printvalue(s1,s2):\n",
    "    len1=len(s1)\n",
    "    len2=len(s2)\n",
    "    if len1<len2:\n",
    "        print (s1)\n",
    "    elif len2<len1:\n",
    "        print (s2)\n",
    "    else:\n",
    "            print(s1)\n",
    "            print(s2)\n",
    "printvalue(\"four\",\"six\")\n",
    "    "
   ]
  },
  {
   "cell_type": "code",
   "execution_count": 19,
   "metadata": {},
   "outputs": [
    {
     "name": "stdout",
     "output_type": "stream",
     "text": [
      "{1: 1, 2: 4, 3: 9}\n"
     ]
    }
   ],
   "source": [
    "def printvalue():\n",
    "    d=dict()\n",
    "    d[1]=1**1\n",
    "    d[2]=2**2\n",
    "    d[3]=3**2\n",
    "    print(d)\n",
    "\n",
    "printvalue()"
   ]
  },
  {
   "cell_type": "code",
   "execution_count": 28,
   "metadata": {},
   "outputs": [
    {
     "name": "stdout",
     "output_type": "stream",
     "text": [
      "1,4,9,16,25,36,49,64,81,100,121,144,169,196,225,256,289,324,361,400,"
     ]
    }
   ],
   "source": [
    "def printvalue():\n",
    "    d=dict()\n",
    "    for i in range(1,21):\n",
    "        d=i**2\n",
    "        print(d,end =\",\")\n",
    "printvalue()   "
   ]
  },
  {
   "cell_type": "code",
   "execution_count": 29,
   "metadata": {},
   "outputs": [
    {
     "name": "stdout",
     "output_type": "stream",
     "text": [
      "1\n",
      "2\n",
      "3\n",
      "4\n",
      "5\n",
      "6\n",
      "7\n",
      "8\n",
      "9\n",
      "10\n",
      "11\n",
      "12\n",
      "13\n",
      "14\n",
      "15\n",
      "16\n",
      "17\n",
      "18\n",
      "19\n",
      "20\n"
     ]
    }
   ],
   "source": [
    "def printvalue():\n",
    "    d=dict()\n",
    "    for i in range(1,21):\n",
    "        d[i]=i**2\n",
    "    for k in d.keys():\n",
    "        print(k)\n",
    "            \n",
    "printvalue()"
   ]
  },
  {
   "cell_type": "code",
   "execution_count": 40,
   "metadata": {},
   "outputs": [
    {
     "name": "stdout",
     "output_type": "stream",
     "text": [
      "[1, 4, 9, 16, 25, 36, 49, 64, 81, 100, 121, 144, 169, 196, 225, 256, 289, 324, 361]\n"
     ]
    }
   ],
   "source": [
    "def printvalue():\n",
    "    li=list()\n",
    "    for i in range(1,20):\n",
    "        li.append(i**2)\n",
    "    print(li)\n",
    "printvalue()"
   ]
  },
  {
   "cell_type": "code",
   "execution_count": 42,
   "metadata": {},
   "outputs": [
    {
     "name": "stdout",
     "output_type": "stream",
     "text": [
      "[1, 4, 9, 16, 25]\n"
     ]
    }
   ],
   "source": [
    "def printvalue():\n",
    "    li=list()\n",
    "    for i in range(1,20):\n",
    "        li.append(i**2)\n",
    "    print(li[:5])\n",
    "            \n",
    "printvalue()           "
   ]
  },
  {
   "cell_type": "code",
   "execution_count": 43,
   "metadata": {},
   "outputs": [
    {
     "name": "stdout",
     "output_type": "stream",
     "text": [
      "[225, 256, 289, 324, 361]\n"
     ]
    }
   ],
   "source": [
    "def printvalue():\n",
    "    li=list()\n",
    "    for i in range(1,20):\n",
    "        li.append(i**2)\n",
    "    print(li[-5:])\n",
    "printvalue()    "
   ]
  },
  {
   "cell_type": "code",
   "execution_count": 46,
   "metadata": {},
   "outputs": [
    {
     "name": "stdout",
     "output_type": "stream",
     "text": [
      "[36, 49, 64, 81, 100, 121, 144, 169, 196, 225, 256, 289, 324, 361]\n"
     ]
    }
   ],
   "source": [
    "def printvalue():\n",
    "    li=list()\n",
    "    for i in range(1,20):\n",
    "        li.append(i**2)\n",
    "    print(li[5:])\n",
    "printvalue()"
   ]
  },
  {
   "cell_type": "code",
   "execution_count": 47,
   "metadata": {},
   "outputs": [
    {
     "name": "stdout",
     "output_type": "stream",
     "text": [
      "(1, 4, 9, 16, 25, 36, 49, 64, 81, 100, 121, 144, 169, 196, 225, 256, 289, 324, 361)\n"
     ]
    }
   ],
   "source": [
    "def printvalue():\n",
    "    li=list()\n",
    "    for i in range(1,20):\n",
    "        li.append(i**2)\n",
    "    print(tuple(li))\n",
    "printvalue()"
   ]
  },
  {
   "cell_type": "code",
   "execution_count": 50,
   "metadata": {},
   "outputs": [
    {
     "name": "stdout",
     "output_type": "stream",
     "text": [
      "(1, 2, 3, 4, 5)\n",
      "(6, 7, 8, 9, 10)\n"
     ]
    }
   ],
   "source": [
    "t=(1,2,3,4,5,6,7,8,9,10)\n",
    "t1=t[:5]\n",
    "t2=t[5:]\n",
    "print(t1)\n",
    "print(t2)"
   ]
  },
  {
   "cell_type": "code",
   "execution_count": 55,
   "metadata": {},
   "outputs": [
    {
     "name": "stdout",
     "output_type": "stream",
     "text": [
      "(2, 4, 6, 8, 10)\n"
     ]
    }
   ],
   "source": [
    "tp=(1,2,3,4,5,6,7,8,9,10)\n",
    "li=[]\n",
    "for i in tp:\n",
    "    if i%2==0:\n",
    "        li.append(i)\n",
    "tp2=tuple(li)\n",
    "print(tp2)"
   ]
  },
  {
   "cell_type": "code",
   "execution_count": 59,
   "metadata": {},
   "outputs": [
    {
     "name": "stdout",
     "output_type": "stream",
     "text": [
      "No\n"
     ]
    }
   ],
   "source": [
    "s=input\n",
    "if s=='yes'or s=='YES'or s=='Yes':\n",
    "    print('YES')\n",
    "else:\n",
    "    print('No')"
   ]
  },
  {
   "cell_type": "code",
   "execution_count": 66,
   "metadata": {},
   "outputs": [
    {
     "name": "stdout",
     "output_type": "stream",
     "text": [
      "[2, 4, 6, 8]\n"
     ]
    }
   ],
   "source": [
    "li=[1,2,3,4,5,6,7,8,9]\n",
    "even=list(filter(lambda x:x%2==0,li))\n",
    "print(even)\n"
   ]
  },
  {
   "cell_type": "code",
   "execution_count": 67,
   "metadata": {},
   "outputs": [
    {
     "name": "stdout",
     "output_type": "stream",
     "text": [
      "[1, 3, 5, 7, 9]\n"
     ]
    }
   ],
   "source": [
    "li=[1,2,3,4,5,6,7,8,9]\n",
    "odd=list(filter(lambda x:x%2!=0,li))\n",
    "print(odd)"
   ]
  },
  {
   "cell_type": "code",
   "execution_count": 69,
   "metadata": {},
   "outputs": [
    {
     "name": "stdout",
     "output_type": "stream",
     "text": [
      "[1, 4, 9, 16, 25, 36, 49, 64, 81]\n"
     ]
    }
   ],
   "source": [
    "li=[1,2,3,4,5,6,7,8,9]\n",
    "sqrt=list(map(lambda x:x ** 2,li))\n",
    "print(sqrt)"
   ]
  },
  {
   "cell_type": "code",
   "execution_count": 73,
   "metadata": {},
   "outputs": [
    {
     "name": "stdout",
     "output_type": "stream",
     "text": [
      "[4, 16, 36, 64]\n"
     ]
    }
   ],
   "source": [
    "li=[1,2,3,4,5,6,7,8,9]\n",
    "evenNumbers = list(map(lambda x: x**2, filter(lambda x: x%2==0, li)))\n",
    "print (evenNumbers)"
   ]
  },
  {
   "cell_type": "code",
   "execution_count": 3,
   "metadata": {},
   "outputs": [
    {
     "name": "stdout",
     "output_type": "stream",
     "text": [
      "[2, 4, 6, 8, 10, 12, 14, 16, 18, 20, 22, 24, 26, 28, 30, 32, 34, 36, 38, 40, 42, 44, 46, 48, 50, 52, 54, 56, 58, 60, 62, 64, 66, 68, 70, 72, 74, 76, 78, 80, 82, 84, 86, 88, 90, 92, 94, 96, 98]\n"
     ]
    }
   ],
   "source": [
    "evennumber=list(filter(lambda x:x%2==0,range(1,100)))\n",
    "print(evennumber)"
   ]
  },
  {
   "cell_type": "code",
   "execution_count": 10,
   "metadata": {},
   "outputs": [
    {
     "name": "stdout",
     "output_type": "stream",
     "text": [
      "2000\n",
      "2005\n",
      "2010\n",
      "2015\n",
      "2020\n",
      "2025\n",
      "2035\n",
      "2040\n",
      "2045\n",
      "2050\n",
      "2055\n",
      "2060\n",
      "2070\n",
      "2075\n",
      "2080\n",
      "2085\n",
      "2090\n",
      "2095\n",
      "2105\n",
      "2110\n",
      "2115\n",
      "2120\n",
      "2125\n",
      "2130\n",
      "2140\n",
      "2145\n",
      "2150\n",
      "2155\n",
      "2160\n",
      "2165\n",
      "2175\n",
      "2180\n",
      "2185\n",
      "2190\n",
      "2195\n",
      "2200\n",
      "2210\n",
      "2215\n",
      "2220\n",
      "2225\n",
      "2230\n",
      "2235\n",
      "2245\n",
      "2250\n",
      "2255\n",
      "2260\n",
      "2265\n",
      "2270\n",
      "2280\n",
      "2285\n",
      "2290\n",
      "2295\n",
      "2300\n",
      "2305\n",
      "2315\n",
      "2320\n",
      "2325\n",
      "2330\n",
      "2335\n",
      "2340\n",
      "2350\n",
      "2355\n",
      "2360\n",
      "2365\n",
      "2370\n",
      "2375\n",
      "2385\n",
      "2390\n",
      "2395\n",
      "2400\n",
      "2405\n",
      "2410\n",
      "2420\n",
      "2425\n",
      "2430\n",
      "2435\n",
      "2440\n",
      "2445\n",
      "2455\n",
      "2460\n",
      "2465\n",
      "2470\n",
      "2475\n",
      "2480\n",
      "2490\n",
      "2495\n",
      "2500\n",
      "2505\n",
      "2510\n",
      "2515\n",
      "2525\n",
      "2530\n",
      "2535\n",
      "2540\n",
      "2545\n",
      "2550\n",
      "2560\n",
      "2565\n",
      "2570\n",
      "2575\n",
      "2580\n",
      "2585\n",
      "2595\n",
      "2600\n",
      "2605\n",
      "2610\n",
      "2615\n",
      "2620\n",
      "2630\n",
      "2635\n",
      "2640\n",
      "2645\n",
      "2650\n",
      "2655\n",
      "2665\n",
      "2670\n",
      "2675\n",
      "2680\n",
      "2685\n",
      "2690\n",
      "2700\n",
      "2705\n",
      "2710\n",
      "2715\n",
      "2720\n",
      "2725\n",
      "2735\n",
      "2740\n",
      "2745\n",
      "2750\n",
      "2755\n",
      "2760\n",
      "2770\n",
      "2775\n",
      "2780\n",
      "2785\n",
      "2790\n",
      "2795\n",
      "2805\n",
      "2810\n",
      "2815\n",
      "2820\n",
      "2825\n",
      "2830\n",
      "2840\n",
      "2845\n",
      "2850\n",
      "2855\n",
      "2860\n",
      "2865\n",
      "2875\n",
      "2880\n",
      "2885\n",
      "2890\n",
      "2895\n",
      "2900\n",
      "2910\n",
      "2915\n",
      "2920\n",
      "2925\n",
      "2930\n",
      "2935\n",
      "2945\n",
      "2950\n",
      "2955\n",
      "2960\n",
      "2965\n",
      "2970\n",
      "2980\n",
      "2985\n",
      "2990\n",
      "2995\n"
     ]
    }
   ],
   "source": [
    "li=[]\n",
    "for i in range(2000,3000):\n",
    "    if(i%5==0 and i%7!=0):\n",
    "        print(i)"
   ]
  },
  {
   "cell_type": "code",
   "execution_count": 19,
   "metadata": {},
   "outputs": [
    {
     "name": "stdout",
     "output_type": "stream",
     "text": [
      "6\n",
      "720\n"
     ]
    }
   ],
   "source": [
    "def fact(x):\n",
    "    if x==0:\n",
    "        return 1\n",
    "    return x * fact(x-1)\n",
    "x=int(input())\n",
    "print(fact(x))"
   ]
  },
  {
   "cell_type": "code",
   "execution_count": 22,
   "metadata": {},
   "outputs": [
    {
     "name": "stdout",
     "output_type": "stream",
     "text": [
      "enter the number6\n",
      "{1: 1, 2: 4, 3: 9, 4: 16, 5: 25, 6: 36}\n"
     ]
    }
   ],
   "source": [
    "n=int(input('enter the number'))\n",
    "d=dict()\n",
    "for i in range(1,n+1):\n",
    "    d[i]=i*i\n",
    "print(d)"
   ]
  },
  {
   "cell_type": "code",
   "execution_count": 23,
   "metadata": {},
   "outputs": [
    {
     "name": "stdout",
     "output_type": "stream",
     "text": [
      "4\n",
      "('4',)\n",
      "['4']\n"
     ]
    }
   ],
   "source": [
    "n=input()\n",
    "l=n.split(',')\n",
    "t=tuple(l)\n",
    "print(t)\n",
    "print(l)"
   ]
  },
  {
   "cell_type": "code",
   "execution_count": 26,
   "metadata": {},
   "outputs": [
    {
     "name": "stdout",
     "output_type": "stream",
     "text": [
      "4\n",
      "9\n"
     ]
    }
   ],
   "source": [
    "def square(num):\n",
    "    return num**2\n",
    "print(square(2))\n",
    "print(square(3))"
   ]
  },
  {
   "cell_type": "code",
   "execution_count": 28,
   "metadata": {},
   "outputs": [
    {
     "data": {
      "text/plain": [
       "5"
      ]
     },
     "execution_count": 28,
     "metadata": {},
     "output_type": "execute_result"
    }
   ],
   "source": [
    "def sumfunction(n1,n2):\n",
    "    return(n1+n2)\n",
    "sumfunction(2,3)"
   ]
  },
  {
   "cell_type": "code",
   "execution_count": 31,
   "metadata": {},
   "outputs": [
    {
     "name": "stdout",
     "output_type": "stream",
     "text": [
      "2\n"
     ]
    }
   ],
   "source": [
    "def printvalue(n):\n",
    "    print(str(n))\n",
    "printvalue(2)"
   ]
  },
  {
   "cell_type": "code",
   "execution_count": 33,
   "metadata": {},
   "outputs": [
    {
     "name": "stdout",
     "output_type": "stream",
     "text": [
      "7\n"
     ]
    }
   ],
   "source": [
    "def printvalue(s1,s2):\n",
    "    print(int(s1)+int(s2))\n",
    "printvalue('3','4')"
   ]
  },
  {
   "cell_type": "code",
   "execution_count": 35,
   "metadata": {},
   "outputs": [
    {
     "name": "stdout",
     "output_type": "stream",
     "text": [
      "23\n"
     ]
    }
   ],
   "source": [
    "def printvalue(s1,s2):\n",
    "    print(s1+s2)\n",
    "printvalue('2','3')"
   ]
  },
  {
   "cell_type": "code",
   "execution_count": 42,
   "metadata": {},
   "outputs": [
    {
     "name": "stdout",
     "output_type": "stream",
     "text": [
      "one\n"
     ]
    }
   ],
   "source": [
    "def printvalue(s1,s2):\n",
    "    len1=len(s1)\n",
    "    len2=len(s2)\n",
    "    if(len1<len2):\n",
    "        print(s1)\n",
    "    elif(len2<len1):\n",
    "        print(s2)\n",
    "    else:\n",
    "        print(s1)\n",
    "        print(s2)\n",
    "printvalue(\"one\",\"nine\")"
   ]
  },
  {
   "cell_type": "code",
   "execution_count": 47,
   "metadata": {},
   "outputs": [
    {
     "name": "stdout",
     "output_type": "stream",
     "text": [
      "odd number\n"
     ]
    }
   ],
   "source": [
    "def printvalue(n):\n",
    "    if n%2==0:\n",
    "        print(\"even number\")\n",
    "    else:\n",
    "        print(\"odd number\")\n",
    "printvalue(11)"
   ]
  },
  {
   "cell_type": "code",
   "execution_count": 52,
   "metadata": {},
   "outputs": [
    {
     "name": "stdout",
     "output_type": "stream",
     "text": [
      "{1: 1, 2: 4, 3: 9, 4: 16, 5: 25, 6: 36}\n"
     ]
    }
   ],
   "source": [
    "def printvalue():\n",
    "    d=dict()\n",
    "d[1]=1**2\n",
    "d[2]=2**2\n",
    "d[3]=3**2\n",
    "print(d)\n",
    "printvalue()"
   ]
  },
  {
   "cell_type": "code",
   "execution_count": 56,
   "metadata": {},
   "outputs": [
    {
     "name": "stdout",
     "output_type": "stream",
     "text": [
      "{1: 1, 2: 4, 3: 9, 4: 16, 5: 25, 6: 36, 7: 49, 8: 64, 9: 81, 10: 100, 11: 121, 12: 144, 13: 169, 14: 196, 15: 225, 16: 256, 17: 289, 18: 324, 19: 361, 20: 400}\n"
     ]
    }
   ],
   "source": [
    "def printvalue():\n",
    "    d=dict()\n",
    "    for i in range(1,21):\n",
    "        d[i]=i**2\n",
    "    print(d)\n",
    "        \n",
    "printvalue()   "
   ]
  },
  {
   "cell_type": "code",
   "execution_count": 59,
   "metadata": {},
   "outputs": [
    {
     "name": "stdout",
     "output_type": "stream",
     "text": [
      "1,4,9,16,25,36,49,64,81,100,121,144,169,196,225,256,289,324,361,"
     ]
    }
   ],
   "source": [
    "def printvalue():\n",
    "    d=dict()\n",
    "    for i in range(1,20):\n",
    "        d[i]=i**2\n",
    "    for (k,v)in d.items():\n",
    "        print(v,end=',')\n",
    "printvalue()        "
   ]
  },
  {
   "cell_type": "code",
   "execution_count": 63,
   "metadata": {},
   "outputs": [],
   "source": [
    "def printvalue():\n",
    "    d=dict()\n",
    "    for i in range(1,20):\n",
    "        d[i]=i**2\n",
    "        for k in d.keys():\n",
    "             print(k) "
   ]
  },
  {
   "cell_type": "code",
   "execution_count": null,
   "metadata": {},
   "outputs": [],
   "source": []
  }
 ],
 "metadata": {
  "kernelspec": {
   "display_name": "Python 3",
   "language": "python",
   "name": "python3"
  },
  "language_info": {
   "codemirror_mode": {
    "name": "ipython",
    "version": 3
   },
   "file_extension": ".py",
   "mimetype": "text/x-python",
   "name": "python",
   "nbconvert_exporter": "python",
   "pygments_lexer": "ipython3",
   "version": "3.7.4"
  }
 },
 "nbformat": 4,
 "nbformat_minor": 2
}
